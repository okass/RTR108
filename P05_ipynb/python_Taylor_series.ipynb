{
 "cells": [
  {
   "cell_type": "markdown",
   "metadata": {},
   "source": [
    "Dotā funkcija: f(x) = (1-x) * e^-x\n",
    "\n",
    "Funkcijas exp(-x) aprēķins izmantojot Teilora rindu:\n",
    "```     \n",
    "         500\n",
    "        -----\n",
    "        \\          k     k\n",
    "         \\     (-1)  *  x\n",
    "f(x) =    |   -------------\n",
    "         /          k!\n",
    "        /\n",
    "        ------\n",
    "         k=0\n",
    "```\n",
    "\n",
    "Funkcijas definīcijas apgabals ir visi reālie skaitļi(x pieder R).\n",
    "\n",
    "Teilora rindas rekurences reizinātājs:\n",
    "```\n",
    "    (-1) * x\n",
    "R = ---------\n",
    "        k\n",
    "```"
   ]
  },
  {
   "cell_type": "code",
   "execution_count": 11,
   "metadata": {},
   "outputs": [
    {
     "name": "stdout",
     "output_type": "stream",
     "text": [
      "ievadiet x vērtību:5\n",
      "rezultāts izmantojot funkciju: -0.026951787996341868\n",
      "priekšpēdējā vērtība: 6.77e-322\n",
      "pēdējā vērtība: -1.5e-323\n",
      "rezultāts izmantojo teilora rindas: -0.02695178799633614\n"
     ]
    }
   ],
   "source": [
    "import math\n",
    "\n",
    "# (1-x) * e^-x\n",
    "def fnc(x):\n",
    "    # iter count\n",
    "    max_k = 500\n",
    "    result = (pow(-1, 0) * 1) / 1\n",
    "    previous_val = result\n",
    "    \n",
    "    i = 1\n",
    "    while i<=max_k and previous_val != 0:\n",
    "        # rekurences reizinaajums\n",
    "        current_val = previous_val * -1 * x / i\n",
    "        \n",
    "        result += current_val\n",
    "        \n",
    "        # saglabā vērtības vēlākai parādīšanai\n",
    "        if current_val != 0:\n",
    "            priekspedeja = previous_val\n",
    "            previous_val = current_val\n",
    "        \n",
    "        i += 1\n",
    "    #aprēķinātās summas iepriekšpēdējā locekļa vērtība\n",
    "    print(\"priekšpēdējā vērtība:\", priekspedeja)\n",
    "    #aprēķinātās summas pēdējā locekļa (500-tā vērtība) vērtība\n",
    "    print(\"pēdējā vērtība:\", previous_val)\n",
    "    return (1 - x) * result\n",
    "\n",
    "\n",
    "#pieņem ka lietotājs vienmēr ievada skaitli\n",
    "#dialogu ar lietotāju x vērtības iegūšana\n",
    "x = float(input(\"ievadiet x vērtību:\"))\n",
    "#funkcijas vērtība f(x), aprēķins izmantojot funkcijas izteiksmi\n",
    "print(\"rezultāts izmantojot funkciju:\", ((1-x) * math.exp(-x)) )\n",
    "#funkcijas vērtība f(x), aprēķins izmantojot Teilora rindas izteiksmi\n",
    "print(\"rezultāts izmantojo teilora rindas:\", fnc(x))\n"
   ]
  },
  {
   "attachments": {},
   "cell_type": "markdown",
   "metadata": {},
   "source": [
    "![funkcijas f(x) grafiks izmantojot funkcijas izteiksmi](https://raw.githubusercontent.com/okass/RTR105/master/works/1lw_series/graph.png)"
   ]
  }
 ],
 "metadata": {
  "kernelspec": {
   "display_name": "Python 3",
   "language": "python",
   "name": "python3"
  },
  "language_info": {
   "codemirror_mode": {
    "name": "ipython",
    "version": 3
   },
   "file_extension": ".py",
   "mimetype": "text/x-python",
   "name": "python",
   "nbconvert_exporter": "python",
   "pygments_lexer": "ipython3",
   "version": "3.6.7"
  }
 },
 "nbformat": 4,
 "nbformat_minor": 4
}

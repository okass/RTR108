{
 "cells": [
  {
   "cell_type": "markdown",
   "metadata": {},
   "source": [
    "# 1.laboratorijas darba (Teilora rindas) atskaite\n",
    "Šeit es aprakstīšu Teilora rindu būtību...\n",
    "1.paragrāfs\n",
    "2.paragrāfs"
   ]
  },
  {
   "cell_type": "code",
   "execution_count": 4,
   "metadata": {},
   "outputs": [],
   "source": [
    "import math\n",
    "def fnc(x):\n",
    "    result = 0\n",
    "    previous_val = 0\n",
    "    max_k = 500\n",
    "    priekspedeja = 0\n",
    "    # lieka darbiiba\n",
    "    result = (-1**0 * 1) / 1\n",
    "    previous_val = result\n",
    "    \n",
    "    i = 1\n",
    "    while i <= max_k and previous_val != 0:\n",
    "        current_val = previous_val * -1 * x / 1\n",
    "        \n",
    "        result = result + current_val\n",
    "        \n",
    "        if(current_val != 0):\n",
    "            priekspedeja = previous_val\n",
    "            previous_val = current_val\n",
    "        i = i + 1\n",
    "    \n",
    "    print(\"priekspedeejaa veertiiba: %7.6e\"%priekspedeja)\n",
    "    print(\"peedeejaa veertiiba: %7.6e\"%previous_val)\n",
    "    return (1 - x) * result"
   ]
  },
  {
   "cell_type": "code",
   "execution_count": 3,
   "metadata": {},
   "outputs": [
    {
     "name": "stdout",
     "output_type": "stream",
     "text": [
      "priekspedeejaa veertiiba:     inf\n",
      "peedeejaa veertiiba:    -inf\n",
      "nan\n"
     ]
    }
   ],
   "source": [
    "print(fnc(10))"
   ]
  },
  {
   "cell_type": "code",
   "execution_count": null,
   "metadata": {},
   "outputs": [],
   "source": []
  }
 ],
 "metadata": {
  "kernelspec": {
   "display_name": "Python 3",
   "language": "python",
   "name": "python3"
  },
  "language_info": {
   "codemirror_mode": {
    "name": "ipython",
    "version": 3
   },
   "file_extension": ".py",
   "mimetype": "text/x-python",
   "name": "python",
   "nbconvert_exporter": "python",
   "pygments_lexer": "ipython3",
   "version": "3.8.1"
  }
 },
 "nbformat": 4,
 "nbformat_minor": 4
}
